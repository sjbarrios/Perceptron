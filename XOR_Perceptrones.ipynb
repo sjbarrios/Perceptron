{
 "cells": [
  {
   "cell_type": "markdown",
   "metadata": {},
   "source": [
    "Universidad Galileo\n",
    "\n",
    "Statistical Learning II\n",
    "\n",
    "PAPD - Sección V\n",
    "\n",
    "Sergio José Barrios Martínez\n",
    "\n",
    "Carnet No. 19012765\n",
    "\n",
    "## XOR y Perceptrones"
   ]
  },
  {
   "cell_type": "code",
   "execution_count": 1,
   "metadata": {},
   "outputs": [],
   "source": [
    "import numpy as np"
   ]
  },
  {
   "cell_type": "markdown",
   "metadata": {},
   "source": [
    "### Parte No. 1:\n",
    "Ejercicio de composición de funciones para implementar XOR"
   ]
  },
  {
   "cell_type": "code",
   "execution_count": 2,
   "metadata": {},
   "outputs": [],
   "source": [
    "def funcion_and(bit0,bit1):\n",
    "    parametros = [1,1,-1]\n",
    "    salida_and = int(parametros[0]*bit0 + parametros[1]*bit1 + parametros[2]>0);\n",
    "    return salida_and;"
   ]
  },
  {
   "cell_type": "code",
   "execution_count": 3,
   "metadata": {},
   "outputs": [],
   "source": [
    "def funcion_or(bit0,bit1):\n",
    "    parametros = [1,1,0]\n",
    "    salida_or = int(parametros[0]*bit0 + parametros[1]*bit1+parametros[2]>0)\n",
    "    return salida_or;"
   ]
  },
  {
   "cell_type": "code",
   "execution_count": 4,
   "metadata": {},
   "outputs": [],
   "source": [
    "def funcion_not(bit0):\n",
    "    parametros = [-1,1]\n",
    "    salida_not = int(parametros[0]*bit0 + parametros[1])\n",
    "    return salida_not;"
   ]
  },
  {
   "cell_type": "code",
   "execution_count": 5,
   "metadata": {},
   "outputs": [],
   "source": [
    "def funcion_xor(bit0,bit1):\n",
    "    \n",
    "    h1 = funcion_and(bit0,bit1) # Capa oculta 1\n",
    "    h2 = funcion_or(bit0,bit1)  # Capa oculta 1\n",
    "\n",
    "    h3 = funcion_not(h1)        # Capa oculta 2\n",
    "    h4 = funcion_and(h3,h2)     # Capa oculta 3\n",
    "\n",
    "    return h4"
   ]
  },
  {
   "cell_type": "code",
   "execution_count": 6,
   "metadata": {},
   "outputs": [
    {
     "name": "stdout",
     "output_type": "stream",
     "text": [
      "Tabla de verdad XOR\n",
      "0 XOR 0 -> 0\n",
      "0 XOR 1 -> 1\n",
      "1 XOR 0 -> 1\n",
      "1 XOR 1 -> 0\n"
     ]
    }
   ],
   "source": [
    "print(\"Tabla de verdad XOR\")\n",
    "print(\"0 XOR 0 ->\",funcion_xor(0,0))\n",
    "print(\"0 XOR 1 ->\",funcion_xor(0,1))\n",
    "print(\"1 XOR 0 ->\",funcion_xor(1,0))\n",
    "print(\"1 XOR 1 ->\",funcion_xor(1,1))"
   ]
  },
  {
   "cell_type": "markdown",
   "metadata": {},
   "source": [
    "### Parte 2: \n",
    "Usando activación \"step\" y el algoritmo de entrenamiento de perceptrones visto en clase, entrenar :\n",
    "- 1 perceptrón para la operación \"and\"\n",
    "- 1 perceptrón para la operación \"or\"\n",
    "Remplazar las funciones de la parte 1 con los perceptrones entrenados."
   ]
  },
  {
   "cell_type": "markdown",
   "metadata": {},
   "source": [
    "### Función de Entrenamiento del Perceptrón"
   ]
  },
  {
   "cell_type": "code",
   "execution_count": 7,
   "metadata": {},
   "outputs": [],
   "source": [
    "def train_perceptron(vector_x,vector_y,lr,epochs,tolerancia):\n",
    "    \n",
    "    # Se agrega una columna de 1's para considerar el Intercepto en Producto Punto\n",
    "    X = np.append(vector_x,[[1],[1],[1],[1]],axis=1)\n",
    "\n",
    "    # Inicialización de Valores Predicción y Error Cuadrático Medio (para Convergencia)\n",
    "    Y_hat=0.0\n",
    "    MSE = 0.0\n",
    "    \n",
    "    # Inicialización aleatoria de matriz de pesos W\n",
    "    mu, sigma = 0, 0.1\n",
    "    W = np.random.normal(mu, sigma, 3)\n",
    "    \n",
    "    # Para cada Epoch\n",
    "    for ep in range(epochs):\n",
    "        \n",
    "        # Se ordena aleatoriamente los datos de entrada X y las etiquetas Y, por medio de un índice.\n",
    "        random_index = np.arange(X.shape[0])\n",
    "        np.random.shuffle(random_index)\n",
    "        \n",
    "        # Inicialización del Error para el Epoch\n",
    "        error = []\n",
    "    \n",
    "        # Para cada elemento en el conjunto de datos ordenado aleatoriamente:\n",
    "        for i in random_index:\n",
    "    \n",
    "            # Se calcula la salida del perceptron\n",
    "            Y = np.matmul(X[i],W)\n",
    "\n",
    "            # Si el i-ésimo elemento pertenece a P (inputs con label 1)\n",
    "            if (vector_y[i] == 1) and (Y < 0):\n",
    "                W = W + lr*X[i]\n",
    "        \n",
    "            # Si el i-ésimo elemento pertenece a N (inputs con label 0)\n",
    "            if (vector_y[i] == 0) and (Y >= 0):\n",
    "                W = W - lr*X[i]\n",
    "        \n",
    "            # Salida del perceptron (Función de Activación Escalón)\n",
    "            Y_hat = int(Y>0)\n",
    "            \n",
    "            # Cálculo del error para el Criterio de Convergencia\n",
    "            error.append(np.power(vector_y[i] - Y_hat,2))\n",
    "\n",
    "        # Evaluación del Criterio de Convergencia\n",
    "        MSE = np.mean(error)\n",
    "        print(\"Epoch:\",ep+1,\"MSE:\",MSE)\n",
    "        \n",
    "        if (MSE < tolerancia):\n",
    "            print (\"Early Stopping por alcanzar criterio de convergencia en Epoch\",ep)\n",
    "            break\n",
    "    print(\"Parámetros Entrenados del Modelo:\",W)\n",
    "    \n",
    "    return W"
   ]
  },
  {
   "cell_type": "markdown",
   "metadata": {},
   "source": [
    "#### Tabla de Verdad Operador AND"
   ]
  },
  {
   "cell_type": "code",
   "execution_count": 8,
   "metadata": {},
   "outputs": [],
   "source": [
    "x=np.array([[0,0],[0,1],[1,0],[1,1]])\n",
    "y=np.array([[0],[0],[0],[1]])"
   ]
  },
  {
   "cell_type": "markdown",
   "metadata": {},
   "source": [
    "Obtención de Parámetros Entrenados para Operador AND:\n",
    "- Elementos de Entrada X\n",
    "- Etiquetas de Salida Y\n",
    "- Tasa de Aprendizaje\n",
    "- Número de Epochs\n",
    "- Error máximo Permisible para Early Stopping"
   ]
  },
  {
   "cell_type": "code",
   "execution_count": 9,
   "metadata": {},
   "outputs": [
    {
     "name": "stdout",
     "output_type": "stream",
     "text": [
      "Epoch: 1 MSE: 0.5\n",
      "Epoch: 2 MSE: 0.5\n",
      "Epoch: 3 MSE: 0.75\n",
      "Epoch: 4 MSE: 0.25\n",
      "Epoch: 5 MSE: 0.5\n",
      "Epoch: 6 MSE: 0.25\n",
      "Epoch: 7 MSE: 0.0\n",
      "Early Stopping por alcanzar criterio de convergencia en Epoch 6\n",
      "Parámetros Entrenados del Modelo: [ 0.24249381  0.07229336 -0.2482135 ]\n"
     ]
    }
   ],
   "source": [
    "pesos_and = train_perceptron(x,y,0.1,100,0.01)"
   ]
  },
  {
   "cell_type": "markdown",
   "metadata": {},
   "source": [
    "#### Definición de AND utilizando Perceptrón Entrenado y Predicción:"
   ]
  },
  {
   "cell_type": "code",
   "execution_count": 10,
   "metadata": {},
   "outputs": [],
   "source": [
    "def perceptron_and(bit0,bit1,parametros):\n",
    "    salida_and = int(parametros[0]*bit0 + parametros[1]*bit1 + parametros[2]>0);\n",
    "    return salida_and;    "
   ]
  },
  {
   "cell_type": "code",
   "execution_count": 11,
   "metadata": {},
   "outputs": [
    {
     "name": "stdout",
     "output_type": "stream",
     "text": [
      "Tabla de verdad AND\n",
      "0 AND 0 -> 0\n",
      "0 AND 1 -> 0\n",
      "1 AND 0 -> 0\n",
      "1 AND 1 -> 1\n"
     ]
    }
   ],
   "source": [
    "print(\"Tabla de verdad AND\")\n",
    "print(\"0 AND 0 ->\",perceptron_and(0,0,pesos_and))\n",
    "print(\"0 AND 1 ->\",perceptron_and(0,1,pesos_and))\n",
    "print(\"1 AND 0 ->\",perceptron_and(1,0,pesos_and))\n",
    "print(\"1 AND 1 ->\",perceptron_and(1,1,pesos_and))"
   ]
  },
  {
   "cell_type": "markdown",
   "metadata": {},
   "source": [
    "#### Tabla de Verdad Operador OR"
   ]
  },
  {
   "cell_type": "code",
   "execution_count": 12,
   "metadata": {},
   "outputs": [],
   "source": [
    "x=np.array([[0,0],[0,1],[1,0],[1,1]])\n",
    "y=np.array([[0],[1],[1],[1]])"
   ]
  },
  {
   "cell_type": "markdown",
   "metadata": {},
   "source": [
    "Obtención de Parámetros Entrenados para Operador OR:\n",
    "- Elementos de Entrada X\n",
    "- Etiquetas de Salida Y\n",
    "- Tasa de Aprendizaje\n",
    "- Número de Epochs\n",
    "- Error máximo Permisible para Early Stopping"
   ]
  },
  {
   "cell_type": "code",
   "execution_count": 13,
   "metadata": {},
   "outputs": [
    {
     "name": "stdout",
     "output_type": "stream",
     "text": [
      "Epoch: 1 MSE: 0.5\n",
      "Epoch: 2 MSE: 0.25\n",
      "Epoch: 3 MSE: 0.25\n",
      "Epoch: 4 MSE: 0.0\n",
      "Early Stopping por alcanzar criterio de convergencia en Epoch 3\n",
      "Parámetros Entrenados del Modelo: [ 0.04493019  0.10281993 -0.02278018]\n"
     ]
    }
   ],
   "source": [
    "pesos_or = train_perceptron(x,y,0.1,100,0.01)"
   ]
  },
  {
   "cell_type": "markdown",
   "metadata": {},
   "source": [
    "#### Definición de OR utilizando Perceptrón Entrenado y Predicción:"
   ]
  },
  {
   "cell_type": "code",
   "execution_count": 14,
   "metadata": {},
   "outputs": [],
   "source": [
    "def perceptron_or(bit0,bit1,parametros):\n",
    "    salida_or = int(parametros[0]*bit0 + parametros[1]*bit1 + parametros[2]>0);\n",
    "    return salida_or;    "
   ]
  },
  {
   "cell_type": "code",
   "execution_count": 15,
   "metadata": {},
   "outputs": [
    {
     "name": "stdout",
     "output_type": "stream",
     "text": [
      "Tabla de verdad OR\n",
      "0 OR 0 -> 0\n",
      "0 OR 1 -> 1\n",
      "1 OR 0 -> 1\n",
      "1 OR 1 -> 1\n"
     ]
    }
   ],
   "source": [
    "print(\"Tabla de verdad OR\")\n",
    "print(\"0 OR 0 ->\",perceptron_or(0,0,pesos_or))\n",
    "print(\"0 OR 1 ->\",perceptron_or(0,1,pesos_or))\n",
    "print(\"1 OR 0 ->\",perceptron_or(1,0,pesos_or))\n",
    "print(\"1 OR 1 ->\",perceptron_or(1,1,pesos_or))"
   ]
  },
  {
   "cell_type": "markdown",
   "metadata": {},
   "source": [
    "#### Reemplazo de Funciones por Perceptrones en Función XOR"
   ]
  },
  {
   "cell_type": "code",
   "execution_count": 16,
   "metadata": {},
   "outputs": [],
   "source": [
    "def funcion_xor_perceptrones(bit0,bit1,w_and,w_or):\n",
    "    \n",
    "    h1 = perceptron_and(bit0,bit1,w_and) # Capa oculta 1\n",
    "    h2 = perceptron_or(bit0,bit1,w_or)  # Capa oculta 1\n",
    "\n",
    "    h3 = funcion_not(h1)        # Capa oculta 2\n",
    "    h4 = perceptron_and(h3,h2,w_and)     # Capa oculta 3\n",
    "\n",
    "    return h4"
   ]
  },
  {
   "cell_type": "code",
   "execution_count": 17,
   "metadata": {},
   "outputs": [
    {
     "name": "stdout",
     "output_type": "stream",
     "text": [
      "Tabla de verdad XOR\n",
      "0 XOR 0 -> 0\n",
      "0 XOR 1 -> 1\n",
      "1 XOR 0 -> 1\n",
      "1 XOR 1 -> 0\n"
     ]
    }
   ],
   "source": [
    "print(\"Tabla de verdad XOR\")\n",
    "print(\"0 XOR 0 ->\",funcion_xor_perceptrones(0,0,pesos_and,pesos_or))\n",
    "print(\"0 XOR 1 ->\",funcion_xor_perceptrones(0,1,pesos_and,pesos_or))\n",
    "print(\"1 XOR 0 ->\",funcion_xor_perceptrones(1,0,pesos_and,pesos_or))\n",
    "print(\"1 XOR 1 ->\",funcion_xor_perceptrones(1,1,pesos_and,pesos_or))"
   ]
  }
 ],
 "metadata": {
  "kernelspec": {
   "display_name": "Python 3",
   "language": "python",
   "name": "python3"
  },
  "language_info": {
   "codemirror_mode": {
    "name": "ipython",
    "version": 3
   },
   "file_extension": ".py",
   "mimetype": "text/x-python",
   "name": "python",
   "nbconvert_exporter": "python",
   "pygments_lexer": "ipython3",
   "version": "3.7.7"
  }
 },
 "nbformat": 4,
 "nbformat_minor": 4
}
